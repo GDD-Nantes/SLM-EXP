{
 "cells": [
  {
   "cell_type": "code",
   "execution_count": 71,
   "metadata": {},
   "outputs": [],
   "source": [
    "import plotly.express as px\n",
    "import pandas as pd"
   ]
  },
  {
   "cell_type": "code",
   "execution_count": 72,
   "metadata": {},
   "outputs": [
    {
     "name": "stdout",
     "output_type": "stream",
     "text": [
      "94  unique courses\n",
      "92  unique labels\n"
     ]
    },
    {
     "data": {
      "application/vnd.microsoft.datawrangler.viewer.v0+json": {
       "columns": [
        {
         "name": "index",
         "rawType": "int64",
         "type": "integer"
        },
        {
         "name": "s",
         "rawType": "object",
         "type": "string"
        },
        {
         "name": "label",
         "rawType": "object",
         "type": "string"
        },
        {
         "name": "ku_source",
         "rawType": "object",
         "type": "string"
        },
        {
         "name": "score",
         "rawType": "float64",
         "type": "float"
        },
        {
         "name": "parcours",
         "rawType": "object",
         "type": "string"
        },
        {
         "name": "ka",
         "rawType": "object",
         "type": "string"
        },
        {
         "name": "ku",
         "rawType": "object",
         "type": "string"
        },
        {
         "name": "answer",
         "rawType": "int64",
         "type": "integer"
        },
        {
         "name": "explain",
         "rawType": "object",
         "type": "string"
        }
       ],
       "conversionMethod": "pd.DataFrame",
       "ref": "6102e7e1-7911-4bff-8e66-7b873987a05b",
       "rows": [
        [
         "9",
         "http://example.org/course/X1II030",
         "Complexité et algorithmes",
         "file:///Users/molli-p/BodyOfKnowledge/Algorithmic_Foundations_AL/AL-Complexity_Complexity.txt",
         "0.7267314",
         "ATAL,ORO,DS,CMI,ALMA,VICO",
         "Algorithmic_Foundations_AL",
         "AL-Complexity_Complexity",
         "1",
         "The lecture covers most of the topics in the Knowledge Unit, but with some omissions in the advanced classes (FPTAS, PTAS, APX, FPT, W[1]-dur) and specific techniques for proving FPT."
        ],
        [
         "10",
         "http://example.org/course/X1II030",
         "Complexité et algorithmes",
         "file:///Users/molli-p/BodyOfKnowledge/Algorithmic_Foundations_AL/AL-Complexity_Complexity.txt",
         "0.70780706",
         "ATAL,ORO,DS,CMI,ALMA,VICO",
         "Algorithmic_Foundations_AL",
         "AL-Complexity_Complexity",
         "1",
         "The lecture covers most of the topics in the Knowledge Unit, but with some omissions in the advanced classes (FPTAS, PTAS, APX, FPT, W[1]-dur) and specific techniques for proving FPT."
        ],
        [
         "11",
         "http://example.org/course/X1II030",
         "Complexité et algorithmes",
         "file:///Users/molli-p/BodyOfKnowledge/Algorithmic_Foundations_AL/AL-Complexity_Complexity.txt",
         "0.70366716",
         "ATAL,ORO,DS,CMI,ALMA,VICO",
         "Algorithmic_Foundations_AL",
         "AL-Complexity_Complexity",
         "1",
         "The lecture covers most of the topics in the Knowledge Unit, but with some omissions in the advanced classes (FPTAS, PTAS, APX, FPT, W[1]-dur) and specific techniques for proving FPT."
        ],
        [
         "38",
         "http://example.org/course/X2II010",
         "Machine Learning",
         "file:///Users/molli-p/BodyOfKnowledge/Artificial_Intelligence_AI/AI-ML_Machine_Learning.txt",
         "0.7566419",
         "ATAL,ORO,DS,CMI,ALMA,VICO",
         "Artificial_Intelligence_AI",
         "AI-ML_Machine_Learning",
         "1",
         "The lecture covers the main topics of supervised and unsupervised learning, including machine learning algorithms such as decision trees, logistic regression, neural networks, and clustering methods. It also touches on topics like overfitting, regularization, and learning theory."
        ],
        [
         "39",
         "http://example.org/course/X2II010",
         "Machine Learning",
         "file:///Users/molli-p/BodyOfKnowledge/Artificial_Intelligence_AI/AI-ML_Machine_Learning.txt",
         "0.7182207",
         "ATAL,ORO,DS,CMI,ALMA,VICO",
         "Artificial_Intelligence_AI",
         "AI-ML_Machine_Learning",
         "1",
         "The lecture covers the main topics of supervised and unsupervised learning, including machine learning algorithms such as decision trees, logistic regression, neural networks, and clustering methods. It also touches on topics like overfitting, regularization, and learning theory."
        ],
        [
         "40",
         "http://example.org/course/X2II010",
         "Machine Learning",
         "file:///Users/molli-p/BodyOfKnowledge/Artificial_Intelligence_AI/AI-ML_Machine_Learning.txt",
         "0.70079315",
         "ATAL,ORO,DS,CMI,ALMA,VICO",
         "Artificial_Intelligence_AI",
         "AI-ML_Machine_Learning",
         "1",
         "The lecture covers the main topics of supervised and unsupervised learning, including machine learning algorithms such as decision trees, logistic regression, neural networks, and clustering methods. It also touches on topics like overfitting, regularization, and learning theory."
        ],
        [
         "52",
         "http://example.org/course/X3IA010",
         "Middleware",
         "file:///Users/molli-p/BodyOfKnowledge/Networking_and_Communication_NC/NC-Fundamentals_Fundamentals.txt",
         "0.73144263",
         "ALMA",
         "Networking_and_Communication_NC",
         "NC-Fundamentals_Fundamentals",
         "1",
         "The lecture covers most of the key points of the Knowledge Unit, including fundamentals of networking and internet organization."
        ],
        [
         "54",
         "http://example.org/course/X3IA010",
         "Middleware",
         "file:///Users/molli-p/BodyOfKnowledge/Specialized_Platform_Development_SPD/SPD-Common_Aspects.txt",
         "0.7126242",
         "ALMA",
         "Specialized_Platform_Development_SPD",
         "SPD-Common_Aspects",
         "1",
         "The lecture covers most of the topics in the Knowledge Unit, including development platforms, platform languages, and programming under constraints."
        ],
        [
         "57",
         "http://example.org/course/X3IA020",
         "Gestion des données distribuées à large échelle",
         "file:///Users/molli-p/BodyOfKnowledge/Specialized_Platform_Development_SPD/SPD-Web_Platforms.txt",
         "0.7010016",
         "ATAL,ALMA",
         "Specialized_Platform_Development_SPD",
         "SPD-Web_Platforms",
         "1",
         "The lecture covers OLTP, OLAP, stream processing, distributed datastores and Map-Reduce, which are a significant subset of the knowledge unit's topics."
        ],
        [
         "58",
         "http://example.org/course/X3IA030",
         "Distributed Architectures",
         "file:///Users/molli-p/BodyOfKnowledge/Networking_and_Communication_NC/NC-Fundamentals_Fundamentals.txt",
         "0.72459847",
         "ALMA",
         "Networking_and_Communication_NC",
         "NC-Fundamentals_Fundamentals",
         "1",
         "The lecture covers data integration and decentralized web, which is partially related to the Knowledge Unit's topics on networking fundamentals."
        ],
        [
         "59",
         "http://example.org/course/X3IA030",
         "Distributed Architectures",
         "file:///Users/molli-p/BodyOfKnowledge/Specialized_Platform_Development_SPD/SPD-Web_Platforms.txt",
         "0.7150433",
         "ALMA",
         "Specialized_Platform_Development_SPD",
         "SPD-Web_Platforms",
         "1",
         "The lecture covers most of the topics in the Knowledge Unit, with some overlap in points 5 and 6."
        ],
        [
         "61",
         "http://example.org/course/X3IA040",
         "Ingénierie dirigée par les modèles",
         "file:///Users/molli-p/BodyOfKnowledge/Algorithmic_Foundations_AL/AL-Models_Computational_Models_and_Formal_Languages.txt",
         "0.721132",
         "ALMA",
         "Algorithmic_Foundations_AL",
         "AL-Models_Computational_Models_and_Formal_Languages",
         "1",
         "The lecture covers the formal automata and languages part of the Knowledge Unit, including finite state, pushdown, linear bounded, and Turing machines, as well as regular, context-free, and recursively enumerable languages."
        ],
        [
         "62",
         "http://example.org/course/X3IA040",
         "Ingénierie dirigée par les modèles",
         "file:///Users/molli-p/BodyOfKnowledge/Algorithmic_Foundations_AL/AL-Models_Computational_Models_and_Formal_Languages.txt",
         "0.7157275",
         "ALMA",
         "Algorithmic_Foundations_AL",
         "AL-Models_Computational_Models_and_Formal_Languages",
         "1",
         "The lecture covers the formal automata and languages part of the Knowledge Unit, including finite state, pushdown, linear bounded, and Turing machines, as well as regular, context-free, and recursively enumerable languages."
        ],
        [
         "63",
         "http://example.org/course/X3IA040",
         "Ingénierie dirigée par les modèles",
         "file:///Users/molli-p/BodyOfKnowledge/Architecture_and_Organization_AR/AR-Assembly_Assembly_Level_Machine_Organization.txt",
         "0.70719457",
         "ALMA",
         "Architecture_and_Organization_AR",
         "AR-Assembly_Assembly_Level_Machine_Organization",
         "1",
         "The lecture covers topics related to machine organization and assembly level programming, which overlap with the knowledge unit's content on instruction set architecture (ISA), subroutines, I/O, and interrupts."
        ],
        [
         "64",
         "http://example.org/course/X3IA050",
         "Gestion de Projet",
         "file:///Users/molli-p/BodyOfKnowledge/Software_Engineering_SE/SE-Project_Management.txt",
         "0.72114503",
         "ALMA",
         "Software_Engineering_SE",
         "SE-Project_Management",
         "1",
         "The lecture covers the majority of the knowledge unit's core concepts, including project management principles, estimating costs and durations, and tools for collaborative work."
        ],
        [
         "67",
         "http://example.org/course/X3IA060",
         "Services",
         "file:///Users/molli-p/BodyOfKnowledge/Networking_and_Communication_NC/NC-Fundamentals_Fundamentals.txt",
         "0.7087617",
         "ALMA",
         "Networking_and_Communication_NC",
         "NC-Fundamentals_Fundamentals",
         "1",
         "The lecture covers services, SOA, web-services, and related technologies, which is a subset of the knowledge unit's content on networking fundamentals."
        ],
        [
         "84",
         "http://example.org/course/X3IO030",
         "Optimisation Globale",
         "file:///Users/molli-p/BodyOfKnowledge/Mathematical_and_Statistical_Foundations_MSF/MSF-Calculus.txt",
         "0.70348674",
         "ORO,CMI",
         "Mathematical_and_Statistical_Foundations_MSF",
         "MSF-Calculus",
         "1",
         "The lecture covers a significant portion of the Knowledge Unit's content on calculus and optimization, with some overlap in topics such as derivatives, integration, and multivariate calculus."
        ],
        [
         "85",
         "http://example.org/course/X3IO030",
         "Optimisation Globale",
         "file:///Users/molli-p/BodyOfKnowledge/Mathematical_and_Statistical_Foundations_MSF/MSF-Calculus.txt",
         "0.7017219",
         "ORO,CMI",
         "Mathematical_and_Statistical_Foundations_MSF",
         "MSF-Calculus",
         "1",
         "The lecture covers a significant portion of the Knowledge Unit's content on calculus and optimization, with some overlap in topics such as derivatives, integration, and multivariate calculus."
        ],
        [
         "87",
         "http://example.org/course/X3IO040",
         "Optimisation en robotique",
         "file:///Users/molli-p/BodyOfKnowledge/Specialized_Platform_Development_SPD/SPD-Robot_Platforms.txt",
         "0.76035446",
         "ORO,CMI",
         "Specialized_Platform_Development_SPD",
         "SPD-Robot_Platforms",
         "1",
         "The lecture covers all key points of the Knowledge Unit: robotic platforms and devices, sensors and effectors, programming languages, architecture, constraints, algorithms (kinematics, dynamics), navigation, grasping, safety, interaction."
        ],
        [
         "88",
         "http://example.org/course/X3IO040",
         "Optimisation en robotique",
         "file:///Users/molli-p/BodyOfKnowledge/Specialized_Platform_Development_SPD/SPD-Robot_Platforms.txt",
         "0.7198404",
         "ORO,CMI",
         "Specialized_Platform_Development_SPD",
         "SPD-Robot_Platforms",
         "1",
         "The lecture covers all key points of the Knowledge Unit: robotic platforms and devices, sensors and effectors, programming languages, architecture, constraints, algorithms (kinematics, dynamics), navigation, grasping, safety, interaction."
        ],
        [
         "90",
         "http://example.org/course/X3IO050",
         "Large Scale Optimization",
         "file:///Users/molli-p/BodyOfKnowledge/Artificial_Intelligence_AI/AI-ML_Machine_Learning.txt",
         "0.73426557",
         "ORO,CMI",
         "Artificial_Intelligence_AI",
         "AI-ML_Machine_Learning",
         "1",
         "The lecture covers machine learning, including supervised and unsupervised learning, neural networks, optimization processes, data preprocessing, evaluation procedures, and more."
        ],
        [
         "91",
         "http://example.org/course/X3IO050",
         "Large Scale Optimization",
         "file:///Users/molli-p/BodyOfKnowledge/Artificial_Intelligence_AI/AI-ML_Machine_Learning.txt",
         "0.73093504",
         "ORO,CMI",
         "Artificial_Intelligence_AI",
         "AI-ML_Machine_Learning",
         "1",
         "The lecture covers machine learning, including supervised and unsupervised learning, neural networks, optimization processes, data preprocessing, evaluation procedures, and more."
        ],
        [
         "92",
         "http://example.org/course/X3IO050",
         "Large Scale Optimization",
         "file:///Users/molli-p/BodyOfKnowledge/Algorithmic_Foundations_AL/AL-Complexity_Complexity.txt",
         "0.7228533",
         "ORO,CMI",
         "Algorithmic_Foundations_AL",
         "AL-Complexity_Complexity",
         "1",
         "The lecture covers the topics of Algorithmic Complexity (CS Core) and does not only focus on empirical measurements of performance, tractability and intractability, but also includes asymptotic complexity analysis, time and space tradeoffs, Big-O notation, recurrence relations and NP-completeness, which are all part of the KA Core."
        ],
        [
         "94",
         "http://example.org/course/X3IO080",
         "Optimisation multi-objectif",
         "file:///Users/molli-p/BodyOfKnowledge/Mathematical_and_Statistical_Foundations_MSF/MSF-Calculus.txt",
         "0.7095023",
         "ORO,CMI",
         "Mathematical_and_Statistical_Foundations_MSF",
         "MSF-Calculus",
         "1",
         "The lecture covers the notions of feasible set, outcome set, solution, point, (weakly) efficient, (weakly) nondominated point, lexicographically optimal solution, ideal and nadir points, as well as scalarization methods such as weighted sum, e-constraint and weighted Tchebychev method. It also discusses geometrical properties of the feasible set and outcome set, topological properties of the efficient set and nondominated set, and applications to bi-objective linear programs and combinatorial optimization problems."
        ],
        [
         "95",
         "http://example.org/course/X3IO080",
         "Optimisation multi-objectif",
         "file:///Users/molli-p/BodyOfKnowledge/Artificial_Intelligence_AI/AI-ML_Machine_Learning.txt",
         "0.7037507",
         "ORO,CMI",
         "Artificial_Intelligence_AI",
         "AI-ML_Machine_Learning",
         "1",
         "The lecture covers most topics in the knowledge Unit, but omits some details in sections 29-35."
        ],
        [
         "96",
         "http://example.org/course/X3IOM10",
         "Contraintes Globales",
         "file:///Users/molli-p/BodyOfKnowledge/Artificial_Intelligence_AI/AI_Search_Search.txt",
         "0.71921074",
         "ORO,CMI",
         "Artificial_Intelligence_AI",
         "AI_Search_Search",
         "1",
         "This lecture covers all facets of constraint including checking, filtering, counting, cost violation, reification, explanation, and modeling with various types of constraints. It also touches on search heuristics and graph algorithms."
        ],
        [
         "97",
         "http://example.org/course/X3IOM10",
         "Contraintes Globales",
         "file:///Users/molli-p/BodyOfKnowledge/Algorithmic_Foundations_AL/AL-Models_Computational_Models_and_Formal_Languages.txt",
         "0.7066107",
         "ORO,CMI",
         "Algorithmic_Foundations_AL",
         "AL-Models_Computational_Models_and_Formal_Languages",
         "1",
         "The lecture covers various aspects of constraint engines, filtering, and search heuristics, as well as the basics of formal automata and languages."
        ],
        [
         "102",
         "http://example.org/course/X3IOM30",
         "Transport et logistique",
         "file:///Users/molli-p/BodyOfKnowledge/Networking_and_Communication_NC/NC-Routing_Routing_and_Forwarding.txt",
         "0.7053105",
         "ORO,CMI",
         "Networking_and_Communication_NC",
         "NC-Routing_Routing_and_Forwarding",
         "1",
         "The lecture covers most of the topics described in the Knowledge Unit, except for advanced exact methods and meta heuristics which are partially covered."
        ],
        [
         "125",
         "http://example.org/course/X1I1020",
         "Test logiciel",
         "file:///Users/molli-p/BodyOfKnowledge/Software_Development_Fundamentals_SDF/SDF-Software_Development_Practices.txt",
         "0.75836575",
         "ALMA",
         "Software_Development_Fundamentals_SDF",
         "SDF-Software_Development_Practices",
         "1",
         "The lecture covers most of the key points and techniques outlined in the Knowledge Unit, such as functional and structural testing, unit-level and system-level testing, integration and regression testing, and code instrumentation."
        ],
        [
         "126",
         "http://example.org/course/X1I1020",
         "Test logiciel",
         "file:///Users/molli-p/BodyOfKnowledge/Software_Engineering_SE/SE-Software_Development.txt",
         "0.72322017",
         "ALMA",
         "Software_Engineering_SE",
         "SE-Software_Development",
         "1",
         "The lecture covers topics such as software testing methodologies and test driven development which is partially overlapping with the knowledge unit's content on software testing."
        ],
        [
         "131",
         "http://example.org/course/X1I1040",
         "Web & Cloud and Datastores",
         "file:///Users/molli-p/BodyOfKnowledge/Specialized_Platform_Development_SPD/SPD-Web_Platforms.txt",
         "0.7589026",
         "ATAL,DS,ALMA,VICO",
         "Specialized_Platform_Development_SPD",
         "SPD-Web_Platforms",
         "1",
         "Most topics from the knowledge unit are covered, including cloud infrastructures, scalability and dependability in the context of cloud, cloud datastores, REST API design and deployment, and cost models."
        ],
        [
         "132",
         "http://example.org/course/X1I1040",
         "Web & Cloud and Datastores",
         "file:///Users/molli-p/BodyOfKnowledge/Specialized_Platform_Development_SPD/SPD-Web_Platforms.txt",
         "0.74511063",
         "ATAL,DS,ALMA,VICO",
         "Specialized_Platform_Development_SPD",
         "SPD-Web_Platforms",
         "1",
         "Most topics from the knowledge unit are covered, including cloud infrastructures, scalability and dependability in the context of cloud, cloud datastores, REST API design and deployment, and cost models."
        ],
        [
         "133",
         "http://example.org/course/X1I1040",
         "Web & Cloud and Datastores",
         "file:///Users/molli-p/BodyOfKnowledge/Specialized_Platform_Development_SPD/SPD-Web_Platforms.txt",
         "0.7209569",
         "ATAL,DS,ALMA,VICO",
         "Specialized_Platform_Development_SPD",
         "SPD-Web_Platforms",
         "1",
         "Most topics from the knowledge unit are covered, including cloud infrastructures, scalability and dependability in the context of cloud, cloud datastores, REST API design and deployment, and cost models."
        ],
        [
         "135",
         "http://example.org/course/X1I1060",
         "Algorithmes distribués avancés",
         "file:///Users/molli-p/BodyOfKnowledge/Software_Development_Fundamentals_SDF/SDF-Algorithms.txt",
         "0.7083865",
         "ALMA",
         "Software_Development_Fundamentals_SDF",
         "SDF-Algorithms",
         "1",
         "The lecture covers the core concepts of algorithmic efficiency, common algorithms, and their impact on program performance, which are a significant subset of the knowledge unit."
        ],
        [
         "137",
         "http://example.org/course/X1I1080",
         "Preuves et Constructions Formelles",
         "file:///Users/molli-p/BodyOfKnowledge/Algorithmic_Foundations_AL/AL-Models_Computational_Models_and_Formal_Languages.txt",
         "0.70532185",
         "ALMA",
         "Algorithmic_Foundations_AL",
         "AL-Models_Computational_Models_and_Formal_Languages",
         "1",
         "The lecture covers the CS Core topics, including Formal Automata and Formal Languages, which is a large subset of the knowledge unit."
        ],
        [
         "140",
         "http://example.org/course/X1I2020",
         "Graphes II et Réseaux",
         "file:///Users/molli-p/BodyOfKnowledge/Mathematical_and_Statistical_Foundations_MSF/MSF-Discrete_Discrete_Mathematics.txt",
         "0.7217865",
         "ATAL,ORO,DS,CMI,VICO",
         "Mathematical_and_Statistical_Foundations_MSF",
         "MSF-Discrete_Discrete_Mathematics",
         "1",
         "The lecture covers the Graphs section and the Proof Techniques section partially, with some overlap in topics such as Permutations, combinations, and counting."
        ],
        [
         "143",
         "http://example.org/course/X1II010",
         "Graphes",
         "file:///Users/molli-p/BodyOfKnowledge/Mathematical_and_Statistical_Foundations_MSF/MSF-Discrete_Discrete_Mathematics.txt",
         "0.73988575",
         "ATAL,ORO,DS,CMI,ALMA,VICO",
         "Mathematical_and_Statistical_Foundations_MSF",
         "MSF-Discrete_Discrete_Mathematics",
         "1",
         "The lecture covers the entire Knowledge Unit content, except for modular arithmetic and part of logic"
        ],
        [
         "144",
         "http://example.org/course/X1II010",
         "Graphes",
         "file:///Users/molli-p/BodyOfKnowledge/Mathematical_and_Statistical_Foundations_MSF/MSF-Discrete_Discrete_Mathematics.txt",
         "0.72200274",
         "ATAL,ORO,DS,CMI,ALMA,VICO",
         "Mathematical_and_Statistical_Foundations_MSF",
         "MSF-Discrete_Discrete_Mathematics",
         "1",
         "The lecture covers the entire Knowledge Unit content, except for modular arithmetic and part of logic"
        ],
        [
         "152",
         "http://example.org/course/X1II070",
         "Optimisation non-linéaire",
         "file:///Users/molli-p/BodyOfKnowledge/Mathematical_and_Statistical_Foundations_MSF/MSF-Calculus.txt",
         "0.71045744",
         "ORO,CMI",
         "Mathematical_and_Statistical_Foundations_MSF",
         "MSF-Calculus",
         "1",
         "The lecture covers the topics of multivariate calculus and optimization, which are also present in the Knowledge Unit."
        ],
        [
         "153",
         "http://example.org/course/X1II070",
         "Optimisation non-linéaire",
         "file:///Users/molli-p/BodyOfKnowledge/Mathematical_and_Statistical_Foundations_MSF/MSF-Calculus.txt",
         "0.7096497",
         "ORO,CMI",
         "Mathematical_and_Statistical_Foundations_MSF",
         "MSF-Calculus",
         "1",
         "The lecture covers the topics of multivariate calculus and optimization, which are also present in the Knowledge Unit."
        ],
        [
         "154",
         "http://example.org/course/X1II070",
         "Optimisation non-linéaire",
         "file:///Users/molli-p/BodyOfKnowledge/Mathematical_and_Statistical_Foundations_MSF/MSF-Calculus.txt",
         "0.7080484",
         "ORO,CMI",
         "Mathematical_and_Statistical_Foundations_MSF",
         "MSF-Calculus",
         "1",
         "The lecture covers the topics of multivariate calculus and optimization, which are also present in the Knowledge Unit."
        ],
        [
         "182",
         "http://example.org/course/X2II030",
         "Compilation",
         "file:///Users/molli-p/BodyOfKnowledge/Foundations_Of_Programming_Languages/Foundations_Of_Programming_Languages.txt",
         "0.7034187",
         "ATAL,ORO,DS,CMI,ALMA,VICO",
         "Foundations_Of_Programming_Languages",
         "Foundations_Of_Programming_Languages",
         "1",
         "The lecture covers all concepts related to compilation and the analysis of programming languages, with some overlap in the topics of type systems and memory management."
        ],
        [
         "191",
         "http://example.org/course/X2MC050",
         "Optimisation déterministe et stochastique",
         "file:///Users/molli-p/BodyOfKnowledge/Mathematical_and_Statistical_Foundations_MSF/MSF-Calculus.txt",
         "0.70761424",
         "ORO,CMI",
         "Mathematical_and_Statistical_Foundations_MSF",
         "MSF-Calculus",
         "1",
         "Large subset of Optimisation stochastique and some parts of KA Core covered"
        ],
        [
         "192",
         "http://example.org/course/X2MC050",
         "Optimisation déterministe et stochastique",
         "file:///Users/molli-p/BodyOfKnowledge/Mathematical_and_Statistical_Foundations_MSF/MSF-Calculus.txt",
         "0.7072823",
         "ORO,CMI",
         "Mathematical_and_Statistical_Foundations_MSF",
         "MSF-Calculus",
         "1",
         "Large subset of Optimisation stochastique and some parts of KA Core covered"
        ],
        [
         "193",
         "http://example.org/course/X2MC050",
         "Optimisation déterministe et stochastique",
         "file:///Users/molli-p/BodyOfKnowledge/Mathematical_and_Statistical_Foundations_MSF/MSF-Calculus.txt",
         "0.70686483",
         "ORO,CMI",
         "Mathematical_and_Statistical_Foundations_MSF",
         "MSF-Calculus",
         "1",
         "Large subset of Optimisation stochastique and some parts of KA Core covered"
        ],
        [
         "201",
         "http://example.org/course/X3IO060",
         "Algorithmics in Genomics",
         "file:///Users/molli-p/BodyOfKnowledge/Algorithmic_Foundations_AL/AL-SEP_Society_Ethics_and_the_Profession.txt",
         "0.70001906",
         "ORO,CMI",
         "Algorithmic_Foundations_AL",
         "AL-SEP_Society_Ethics_and_the_Profession",
         "1",
         "Most of the knowledge unit is covered with a strong emphasis on algorithmics in genomics, computational biology and data structures."
        ],
        [
         "215",
         "http://example.org/course/X3IT040",
         "Statistical and symbolic language modeling",
         "file:///Users/molli-p/BodyOfKnowledge/Artificial_Intelligence_AI/AI-NLP_Natural_Language_Processing.txt",
         "0.74980223",
         "ATAL",
         "Artificial_Intelligence_AI",
         "AI-NLP_Natural_Language_Processing",
         "1",
         "The lecture covers statistical and symbolic language modeling, which includes numeric models (bag of words and embeddings), probabilistic models (n-grams), grammatical models (syntaxic, lexical) and their applications. This is a large subset of the topics in the Knowledge Unit."
        ],
        [
         "216",
         "http://example.org/course/X3IT040",
         "Statistical and symbolic language modeling",
         "file:///Users/molli-p/BodyOfKnowledge/Artificial_Intelligence_AI/AI-ML_Machine_Learning.txt",
         "0.7292422",
         "ATAL",
         "Artificial_Intelligence_AI",
         "AI-ML_Machine_Learning",
         "1",
         "The lecture covers most of the knowledge Unit, including supervised, reinforcement, and unsupervised learning styles, machine learning algorithms, neural network training process, overfitting detection and management, learning theory, and ethics in machine learning."
        ],
        [
         "217",
         "http://example.org/course/X3IT040",
         "Statistical and symbolic language modeling",
         "file:///Users/molli-p/BodyOfKnowledge/Artificial_Intelligence_AI/AI-KRR_Fundamental_Knowledge_Representation_and_Reasoning.txt",
         "0.72869635",
         "ATAL",
         "Artificial_Intelligence_AI",
         "AI-KRR_Fundamental_Knowledge_Representation_and_Reasoning",
         "1",
         "The lecture covers the fundamental concepts of symbolic and probabilistic language modeling, which are also covered in the Knowledge Unit on Representation and Reasoning. However, it does not cover machine learning or the full breadth of the unit."
        ],
        [
         "224",
         "http://example.org/course/YG9U15-",
         "Machine learning for computer vision",
         "file:///Users/molli-p/BodyOfKnowledge/Artificial_Intelligence_AI/AI-Vision_Perception_and_Computer_Vision.txt",
         "0.785865",
         "ATAL,VICO",
         "Artificial_Intelligence_AI",
         "AI-Vision_Perception_and_Computer_Vision",
         "1",
         "The lecture covers most of the key points in the Knowledge Unit, including data preprocessing, classification, structure recognition, and applications, but does not delve into the broader context of computer vision and other modalities."
        ]
       ],
       "shape": {
        "columns": 9,
        "rows": 76
       }
      },
      "text/html": [
       "<div>\n",
       "<style scoped>\n",
       "    .dataframe tbody tr th:only-of-type {\n",
       "        vertical-align: middle;\n",
       "    }\n",
       "\n",
       "    .dataframe tbody tr th {\n",
       "        vertical-align: top;\n",
       "    }\n",
       "\n",
       "    .dataframe thead th {\n",
       "        text-align: right;\n",
       "    }\n",
       "</style>\n",
       "<table border=\"1\" class=\"dataframe\">\n",
       "  <thead>\n",
       "    <tr style=\"text-align: right;\">\n",
       "      <th></th>\n",
       "      <th>s</th>\n",
       "      <th>label</th>\n",
       "      <th>ku_source</th>\n",
       "      <th>score</th>\n",
       "      <th>parcours</th>\n",
       "      <th>ka</th>\n",
       "      <th>ku</th>\n",
       "      <th>answer</th>\n",
       "      <th>explain</th>\n",
       "    </tr>\n",
       "  </thead>\n",
       "  <tbody>\n",
       "    <tr>\n",
       "      <th>9</th>\n",
       "      <td>http://example.org/course/X1II030</td>\n",
       "      <td>Complexité et algorithmes</td>\n",
       "      <td>file:///Users/molli-p/BodyOfKnowledge/Algorith...</td>\n",
       "      <td>0.726731</td>\n",
       "      <td>ATAL,ORO,DS,CMI,ALMA,VICO</td>\n",
       "      <td>Algorithmic_Foundations_AL</td>\n",
       "      <td>AL-Complexity_Complexity</td>\n",
       "      <td>1</td>\n",
       "      <td>The lecture covers most of the topics in the K...</td>\n",
       "    </tr>\n",
       "    <tr>\n",
       "      <th>10</th>\n",
       "      <td>http://example.org/course/X1II030</td>\n",
       "      <td>Complexité et algorithmes</td>\n",
       "      <td>file:///Users/molli-p/BodyOfKnowledge/Algorith...</td>\n",
       "      <td>0.707807</td>\n",
       "      <td>ATAL,ORO,DS,CMI,ALMA,VICO</td>\n",
       "      <td>Algorithmic_Foundations_AL</td>\n",
       "      <td>AL-Complexity_Complexity</td>\n",
       "      <td>1</td>\n",
       "      <td>The lecture covers most of the topics in the K...</td>\n",
       "    </tr>\n",
       "    <tr>\n",
       "      <th>11</th>\n",
       "      <td>http://example.org/course/X1II030</td>\n",
       "      <td>Complexité et algorithmes</td>\n",
       "      <td>file:///Users/molli-p/BodyOfKnowledge/Algorith...</td>\n",
       "      <td>0.703667</td>\n",
       "      <td>ATAL,ORO,DS,CMI,ALMA,VICO</td>\n",
       "      <td>Algorithmic_Foundations_AL</td>\n",
       "      <td>AL-Complexity_Complexity</td>\n",
       "      <td>1</td>\n",
       "      <td>The lecture covers most of the topics in the K...</td>\n",
       "    </tr>\n",
       "    <tr>\n",
       "      <th>38</th>\n",
       "      <td>http://example.org/course/X2II010</td>\n",
       "      <td>Machine Learning</td>\n",
       "      <td>file:///Users/molli-p/BodyOfKnowledge/Artifici...</td>\n",
       "      <td>0.756642</td>\n",
       "      <td>ATAL,ORO,DS,CMI,ALMA,VICO</td>\n",
       "      <td>Artificial_Intelligence_AI</td>\n",
       "      <td>AI-ML_Machine_Learning</td>\n",
       "      <td>1</td>\n",
       "      <td>The lecture covers the main topics of supervis...</td>\n",
       "    </tr>\n",
       "    <tr>\n",
       "      <th>39</th>\n",
       "      <td>http://example.org/course/X2II010</td>\n",
       "      <td>Machine Learning</td>\n",
       "      <td>file:///Users/molli-p/BodyOfKnowledge/Artifici...</td>\n",
       "      <td>0.718221</td>\n",
       "      <td>ATAL,ORO,DS,CMI,ALMA,VICO</td>\n",
       "      <td>Artificial_Intelligence_AI</td>\n",
       "      <td>AI-ML_Machine_Learning</td>\n",
       "      <td>1</td>\n",
       "      <td>The lecture covers the main topics of supervis...</td>\n",
       "    </tr>\n",
       "    <tr>\n",
       "      <th>...</th>\n",
       "      <td>...</td>\n",
       "      <td>...</td>\n",
       "      <td>...</td>\n",
       "      <td>...</td>\n",
       "      <td>...</td>\n",
       "      <td>...</td>\n",
       "      <td>...</td>\n",
       "      <td>...</td>\n",
       "      <td>...</td>\n",
       "    </tr>\n",
       "    <tr>\n",
       "      <th>274</th>\n",
       "      <td>http://example.org/course/ZZTASPM</td>\n",
       "      <td>Text and sequential pattern mining</td>\n",
       "      <td>file:///Users/molli-p/BodyOfKnowledge/Artifici...</td>\n",
       "      <td>0.728557</td>\n",
       "      <td>DS</td>\n",
       "      <td>Artificial_Intelligence_AI</td>\n",
       "      <td>AI-NLP_Natural_Language_Processing</td>\n",
       "      <td>1</td>\n",
       "      <td>The lecture covers the topics of sequential pa...</td>\n",
       "    </tr>\n",
       "    <tr>\n",
       "      <th>275</th>\n",
       "      <td>http://example.org/course/ZZTASPM</td>\n",
       "      <td>Text and sequential pattern mining</td>\n",
       "      <td>file:///Users/molli-p/BodyOfKnowledge/Data_Man...</td>\n",
       "      <td>0.724701</td>\n",
       "      <td>DS</td>\n",
       "      <td>Data_Management</td>\n",
       "      <td>Data_Management</td>\n",
       "      <td>1</td>\n",
       "      <td>The lecture covers Sequential pattern mining, ...</td>\n",
       "    </tr>\n",
       "    <tr>\n",
       "      <th>276</th>\n",
       "      <td>http://example.org/course/ZZTASPM</td>\n",
       "      <td>Text and sequential pattern mining</td>\n",
       "      <td>file:///Users/molli-p/BodyOfKnowledge/Artifici...</td>\n",
       "      <td>0.710875</td>\n",
       "      <td>DS</td>\n",
       "      <td>Artificial_Intelligence_AI</td>\n",
       "      <td>AI-ML_Machine_Learning</td>\n",
       "      <td>1</td>\n",
       "      <td>The lecture covers the main topics of machine ...</td>\n",
       "    </tr>\n",
       "    <tr>\n",
       "      <th>277</th>\n",
       "      <td>http://example.org/course/ZZVA</td>\n",
       "      <td>Visual analytics</td>\n",
       "      <td>file:///Users/molli-p/BodyOfKnowledge/Human_Co...</td>\n",
       "      <td>0.763781</td>\n",
       "      <td>DS</td>\n",
       "      <td>Human_Computer_Interaction_HCI</td>\n",
       "      <td>HCI-Evaluation_Evaluating_the_Design</td>\n",
       "      <td>1</td>\n",
       "      <td>The lecture covers core topics of the Knowledg...</td>\n",
       "    </tr>\n",
       "    <tr>\n",
       "      <th>278</th>\n",
       "      <td>http://example.org/course/ZZVA</td>\n",
       "      <td>Visual analytics</td>\n",
       "      <td>file:///Users/molli-p/BodyOfKnowledge/Speciali...</td>\n",
       "      <td>0.746015</td>\n",
       "      <td>DS</td>\n",
       "      <td>Specialized_Platform_Development_SPD</td>\n",
       "      <td>SPD-Interactive_Computing_Platforms</td>\n",
       "      <td>1</td>\n",
       "      <td>The lecture covers data visualization and inte...</td>\n",
       "    </tr>\n",
       "  </tbody>\n",
       "</table>\n",
       "<p>76 rows × 9 columns</p>\n",
       "</div>"
      ],
      "text/plain": [
       "                                     s                               label  \\\n",
       "9    http://example.org/course/X1II030           Complexité et algorithmes   \n",
       "10   http://example.org/course/X1II030           Complexité et algorithmes   \n",
       "11   http://example.org/course/X1II030           Complexité et algorithmes   \n",
       "38   http://example.org/course/X2II010                    Machine Learning   \n",
       "39   http://example.org/course/X2II010                    Machine Learning   \n",
       "..                                 ...                                 ...   \n",
       "274  http://example.org/course/ZZTASPM  Text and sequential pattern mining   \n",
       "275  http://example.org/course/ZZTASPM  Text and sequential pattern mining   \n",
       "276  http://example.org/course/ZZTASPM  Text and sequential pattern mining   \n",
       "277     http://example.org/course/ZZVA                    Visual analytics   \n",
       "278     http://example.org/course/ZZVA                    Visual analytics   \n",
       "\n",
       "                                             ku_source     score  \\\n",
       "9    file:///Users/molli-p/BodyOfKnowledge/Algorith...  0.726731   \n",
       "10   file:///Users/molli-p/BodyOfKnowledge/Algorith...  0.707807   \n",
       "11   file:///Users/molli-p/BodyOfKnowledge/Algorith...  0.703667   \n",
       "38   file:///Users/molli-p/BodyOfKnowledge/Artifici...  0.756642   \n",
       "39   file:///Users/molli-p/BodyOfKnowledge/Artifici...  0.718221   \n",
       "..                                                 ...       ...   \n",
       "274  file:///Users/molli-p/BodyOfKnowledge/Artifici...  0.728557   \n",
       "275  file:///Users/molli-p/BodyOfKnowledge/Data_Man...  0.724701   \n",
       "276  file:///Users/molli-p/BodyOfKnowledge/Artifici...  0.710875   \n",
       "277  file:///Users/molli-p/BodyOfKnowledge/Human_Co...  0.763781   \n",
       "278  file:///Users/molli-p/BodyOfKnowledge/Speciali...  0.746015   \n",
       "\n",
       "                      parcours                                    ka  \\\n",
       "9    ATAL,ORO,DS,CMI,ALMA,VICO            Algorithmic_Foundations_AL   \n",
       "10   ATAL,ORO,DS,CMI,ALMA,VICO            Algorithmic_Foundations_AL   \n",
       "11   ATAL,ORO,DS,CMI,ALMA,VICO            Algorithmic_Foundations_AL   \n",
       "38   ATAL,ORO,DS,CMI,ALMA,VICO            Artificial_Intelligence_AI   \n",
       "39   ATAL,ORO,DS,CMI,ALMA,VICO            Artificial_Intelligence_AI   \n",
       "..                         ...                                   ...   \n",
       "274                         DS            Artificial_Intelligence_AI   \n",
       "275                         DS                       Data_Management   \n",
       "276                         DS            Artificial_Intelligence_AI   \n",
       "277                         DS        Human_Computer_Interaction_HCI   \n",
       "278                         DS  Specialized_Platform_Development_SPD   \n",
       "\n",
       "                                       ku  answer  \\\n",
       "9                AL-Complexity_Complexity       1   \n",
       "10               AL-Complexity_Complexity       1   \n",
       "11               AL-Complexity_Complexity       1   \n",
       "38                 AI-ML_Machine_Learning       1   \n",
       "39                 AI-ML_Machine_Learning       1   \n",
       "..                                    ...     ...   \n",
       "274    AI-NLP_Natural_Language_Processing       1   \n",
       "275                       Data_Management       1   \n",
       "276                AI-ML_Machine_Learning       1   \n",
       "277  HCI-Evaluation_Evaluating_the_Design       1   \n",
       "278   SPD-Interactive_Computing_Platforms       1   \n",
       "\n",
       "                                               explain  \n",
       "9    The lecture covers most of the topics in the K...  \n",
       "10   The lecture covers most of the topics in the K...  \n",
       "11   The lecture covers most of the topics in the K...  \n",
       "38   The lecture covers the main topics of supervis...  \n",
       "39   The lecture covers the main topics of supervis...  \n",
       "..                                                 ...  \n",
       "274  The lecture covers the topics of sequential pa...  \n",
       "275  The lecture covers Sequential pattern mining, ...  \n",
       "276  The lecture covers the main topics of machine ...  \n",
       "277  The lecture covers core topics of the Knowledg...  \n",
       "278  The lecture covers data visualization and inte...  \n",
       "\n",
       "[76 rows x 9 columns]"
      ]
     },
     "execution_count": 72,
     "metadata": {},
     "output_type": "execute_result"
    }
   ],
   "source": [
    "df = pd.read_csv(\"../XP/bok-graph-result.csv\")\n",
    "print(len(df[\"s\"].unique()), \" unique courses\")\n",
    "print(len(df[\"label\"].unique()), \" unique labels\")\n",
    "\n",
    "total_courses = len(df[\"s\"].unique())\n",
    "\n",
    "## filter the dataframe with answer only equal to 1 or 0\n",
    "df = df[df[\"answer\"].isin([\"0\",\"1\"])]\n",
    "df[\"answer\"] = df[\"answer\"].astype(int)\n",
    "df[\"score\"] = df[\"score\"].astype(float)\n",
    "\n",
    "## filter the dataframe with score >= 0.7 and answer == 1\n",
    "matched_courses = df[(df[\"score\"] >= 0.7) & (df[\"answer\"] == 1)]\n",
    "matched_courses "
   ]
  },
  {
   "cell_type": "code",
   "execution_count": 81,
   "metadata": {},
   "outputs": [
    {
     "data": {
      "application/vnd.microsoft.datawrangler.viewer.v0+json": {
       "columns": [
        {
         "name": "index",
         "rawType": "int64",
         "type": "integer"
        },
        {
         "name": "ka",
         "rawType": "object",
         "type": "string"
        },
        {
         "name": "count",
         "rawType": "int64",
         "type": "integer"
        }
       ],
       "conversionMethod": "pd.DataFrame",
       "ref": "9b67bd9d-3be7-4660-8847-b61bd4447fbc",
       "rows": [
        [
         "0",
         "Algorithmic_Foundations_AL",
         "6"
        ],
        [
         "1",
         "Architecture_and_Organization_AR",
         "1"
        ],
        [
         "2",
         "Artificial_Intelligence_AI",
         "13"
        ],
        [
         "3",
         "Data_Management",
         "2"
        ],
        [
         "4",
         "Foundations_Of_Programming_Languages",
         "1"
        ],
        [
         "5",
         "Graphics_and_Interactive_Techniques_GIT",
         "1"
        ],
        [
         "6",
         "Human_Computer_Interaction_HCI",
         "2"
        ],
        [
         "7",
         "Mathematical_and_Statistical_Foundations_MSF",
         "6"
        ],
        [
         "8",
         "Networking_and_Communication_NC",
         "4"
        ],
        [
         "9",
         "Society_Ethics_and_the_Profession_SEP",
         "1"
        ],
        [
         "10",
         "Software_Development_Fundamentals_SDF",
         "2"
        ],
        [
         "11",
         "Software_Engineering_SE",
         "2"
        ],
        [
         "12",
         "Specialized_Platform_Development_SPD",
         "6"
        ]
       ],
       "shape": {
        "columns": 2,
        "rows": 13
       }
      },
      "text/html": [
       "<div>\n",
       "<style scoped>\n",
       "    .dataframe tbody tr th:only-of-type {\n",
       "        vertical-align: middle;\n",
       "    }\n",
       "\n",
       "    .dataframe tbody tr th {\n",
       "        vertical-align: top;\n",
       "    }\n",
       "\n",
       "    .dataframe thead th {\n",
       "        text-align: right;\n",
       "    }\n",
       "</style>\n",
       "<table border=\"1\" class=\"dataframe\">\n",
       "  <thead>\n",
       "    <tr style=\"text-align: right;\">\n",
       "      <th></th>\n",
       "      <th>ka</th>\n",
       "      <th>count</th>\n",
       "    </tr>\n",
       "  </thead>\n",
       "  <tbody>\n",
       "    <tr>\n",
       "      <th>0</th>\n",
       "      <td>Algorithmic_Foundations_AL</td>\n",
       "      <td>6</td>\n",
       "    </tr>\n",
       "    <tr>\n",
       "      <th>1</th>\n",
       "      <td>Architecture_and_Organization_AR</td>\n",
       "      <td>1</td>\n",
       "    </tr>\n",
       "    <tr>\n",
       "      <th>2</th>\n",
       "      <td>Artificial_Intelligence_AI</td>\n",
       "      <td>13</td>\n",
       "    </tr>\n",
       "    <tr>\n",
       "      <th>3</th>\n",
       "      <td>Data_Management</td>\n",
       "      <td>2</td>\n",
       "    </tr>\n",
       "    <tr>\n",
       "      <th>4</th>\n",
       "      <td>Foundations_Of_Programming_Languages</td>\n",
       "      <td>1</td>\n",
       "    </tr>\n",
       "    <tr>\n",
       "      <th>5</th>\n",
       "      <td>Graphics_and_Interactive_Techniques_GIT</td>\n",
       "      <td>1</td>\n",
       "    </tr>\n",
       "    <tr>\n",
       "      <th>6</th>\n",
       "      <td>Human_Computer_Interaction_HCI</td>\n",
       "      <td>2</td>\n",
       "    </tr>\n",
       "    <tr>\n",
       "      <th>7</th>\n",
       "      <td>Mathematical_and_Statistical_Foundations_MSF</td>\n",
       "      <td>6</td>\n",
       "    </tr>\n",
       "    <tr>\n",
       "      <th>8</th>\n",
       "      <td>Networking_and_Communication_NC</td>\n",
       "      <td>4</td>\n",
       "    </tr>\n",
       "    <tr>\n",
       "      <th>9</th>\n",
       "      <td>Society_Ethics_and_the_Profession_SEP</td>\n",
       "      <td>1</td>\n",
       "    </tr>\n",
       "    <tr>\n",
       "      <th>10</th>\n",
       "      <td>Software_Development_Fundamentals_SDF</td>\n",
       "      <td>2</td>\n",
       "    </tr>\n",
       "    <tr>\n",
       "      <th>11</th>\n",
       "      <td>Software_Engineering_SE</td>\n",
       "      <td>2</td>\n",
       "    </tr>\n",
       "    <tr>\n",
       "      <th>12</th>\n",
       "      <td>Specialized_Platform_Development_SPD</td>\n",
       "      <td>6</td>\n",
       "    </tr>\n",
       "  </tbody>\n",
       "</table>\n",
       "</div>"
      ],
      "text/plain": [
       "                                              ka  count\n",
       "0                     Algorithmic_Foundations_AL      6\n",
       "1               Architecture_and_Organization_AR      1\n",
       "2                     Artificial_Intelligence_AI     13\n",
       "3                                Data_Management      2\n",
       "4           Foundations_Of_Programming_Languages      1\n",
       "5        Graphics_and_Interactive_Techniques_GIT      1\n",
       "6                 Human_Computer_Interaction_HCI      2\n",
       "7   Mathematical_and_Statistical_Foundations_MSF      6\n",
       "8                Networking_and_Communication_NC      4\n",
       "9          Society_Ethics_and_the_Profession_SEP      1\n",
       "10         Software_Development_Fundamentals_SDF      2\n",
       "11                       Software_Engineering_SE      2\n",
       "12          Specialized_Platform_Development_SPD      6"
      ]
     },
     "execution_count": 81,
     "metadata": {},
     "output_type": "execute_result"
    }
   ],
   "source": [
    "# distinct count of s for each ka in the matched_courses dataframe\n",
    "ka_count = matched_courses.groupby(\"ka\")[\"s\"].nunique()\n",
    "ka_count = ka_count.reset_index()\n",
    "ka_count.columns = [\"ka\",\"count\"]\n",
    "\n",
    "# sort the ka_count dataframe by ka label\n",
    "ka_count = ka_count.sort_values(by=\"ka\")\n",
    "ka_count"
   ]
  },
  {
   "cell_type": "code",
   "execution_count": null,
   "metadata": {},
   "outputs": [
    {
     "data": {
      "application/vnd.plotly.v1+json": {
       "config": {
        "plotlyServerURL": "https://plot.ly"
       },
       "data": [
        {
         "hovertemplate": "r=%{r}<br>theta=%{theta}<extra></extra>",
         "legendgroup": "",
         "line": {
          "color": "#636efa",
          "dash": "solid",
          "shape": "spline"
         },
         "marker": {
          "symbol": "circle"
         },
         "mode": "lines",
         "name": "",
         "r": {
          "bdata": "BgENAgEBAgYEAQICBgY=",
          "dtype": "i1"
         },
         "showlegend": false,
         "subplot": "polar",
         "theta": [
          "Algorithmic_Foundations_AL",
          "Architecture_and_Organization_AR",
          "Artificial_Intelligence_AI",
          "Data_Management",
          "Foundations_Of_Programming_Languages",
          "Graphics_and_Interactive_Techniques_GIT",
          "Human_Computer_Interaction_HCI",
          "Mathematical_and_Statistical_Foundations_MSF",
          "Networking_and_Communication_NC",
          "Society_Ethics_and_the_Profession_SEP",
          "Software_Development_Fundamentals_SDF",
          "Software_Engineering_SE",
          "Specialized_Platform_Development_SPD",
          "Algorithmic_Foundations_AL"
         ],
         "type": "scatterpolar"
        }
       ],
       "layout": {
        "legend": {
         "tracegroupgap": 0
        },
        "margin": {
         "t": 60
        },
        "polar": {
         "angularaxis": {
          "direction": "clockwise",
          "rotation": 90
         },
         "domain": {
          "x": [
           0,
           1
          ],
          "y": [
           0,
           1
          ]
         }
        },
        "template": {
         "data": {
          "bar": [
           {
            "error_x": {
             "color": "#2a3f5f"
            },
            "error_y": {
             "color": "#2a3f5f"
            },
            "marker": {
             "line": {
              "color": "#E5ECF6",
              "width": 0.5
             },
             "pattern": {
              "fillmode": "overlay",
              "size": 10,
              "solidity": 0.2
             }
            },
            "type": "bar"
           }
          ],
          "barpolar": [
           {
            "marker": {
             "line": {
              "color": "#E5ECF6",
              "width": 0.5
             },
             "pattern": {
              "fillmode": "overlay",
              "size": 10,
              "solidity": 0.2
             }
            },
            "type": "barpolar"
           }
          ],
          "carpet": [
           {
            "aaxis": {
             "endlinecolor": "#2a3f5f",
             "gridcolor": "white",
             "linecolor": "white",
             "minorgridcolor": "white",
             "startlinecolor": "#2a3f5f"
            },
            "baxis": {
             "endlinecolor": "#2a3f5f",
             "gridcolor": "white",
             "linecolor": "white",
             "minorgridcolor": "white",
             "startlinecolor": "#2a3f5f"
            },
            "type": "carpet"
           }
          ],
          "choropleth": [
           {
            "colorbar": {
             "outlinewidth": 0,
             "ticks": ""
            },
            "type": "choropleth"
           }
          ],
          "contour": [
           {
            "colorbar": {
             "outlinewidth": 0,
             "ticks": ""
            },
            "colorscale": [
             [
              0,
              "#0d0887"
             ],
             [
              0.1111111111111111,
              "#46039f"
             ],
             [
              0.2222222222222222,
              "#7201a8"
             ],
             [
              0.3333333333333333,
              "#9c179e"
             ],
             [
              0.4444444444444444,
              "#bd3786"
             ],
             [
              0.5555555555555556,
              "#d8576b"
             ],
             [
              0.6666666666666666,
              "#ed7953"
             ],
             [
              0.7777777777777778,
              "#fb9f3a"
             ],
             [
              0.8888888888888888,
              "#fdca26"
             ],
             [
              1,
              "#f0f921"
             ]
            ],
            "type": "contour"
           }
          ],
          "contourcarpet": [
           {
            "colorbar": {
             "outlinewidth": 0,
             "ticks": ""
            },
            "type": "contourcarpet"
           }
          ],
          "heatmap": [
           {
            "colorbar": {
             "outlinewidth": 0,
             "ticks": ""
            },
            "colorscale": [
             [
              0,
              "#0d0887"
             ],
             [
              0.1111111111111111,
              "#46039f"
             ],
             [
              0.2222222222222222,
              "#7201a8"
             ],
             [
              0.3333333333333333,
              "#9c179e"
             ],
             [
              0.4444444444444444,
              "#bd3786"
             ],
             [
              0.5555555555555556,
              "#d8576b"
             ],
             [
              0.6666666666666666,
              "#ed7953"
             ],
             [
              0.7777777777777778,
              "#fb9f3a"
             ],
             [
              0.8888888888888888,
              "#fdca26"
             ],
             [
              1,
              "#f0f921"
             ]
            ],
            "type": "heatmap"
           }
          ],
          "histogram": [
           {
            "marker": {
             "pattern": {
              "fillmode": "overlay",
              "size": 10,
              "solidity": 0.2
             }
            },
            "type": "histogram"
           }
          ],
          "histogram2d": [
           {
            "colorbar": {
             "outlinewidth": 0,
             "ticks": ""
            },
            "colorscale": [
             [
              0,
              "#0d0887"
             ],
             [
              0.1111111111111111,
              "#46039f"
             ],
             [
              0.2222222222222222,
              "#7201a8"
             ],
             [
              0.3333333333333333,
              "#9c179e"
             ],
             [
              0.4444444444444444,
              "#bd3786"
             ],
             [
              0.5555555555555556,
              "#d8576b"
             ],
             [
              0.6666666666666666,
              "#ed7953"
             ],
             [
              0.7777777777777778,
              "#fb9f3a"
             ],
             [
              0.8888888888888888,
              "#fdca26"
             ],
             [
              1,
              "#f0f921"
             ]
            ],
            "type": "histogram2d"
           }
          ],
          "histogram2dcontour": [
           {
            "colorbar": {
             "outlinewidth": 0,
             "ticks": ""
            },
            "colorscale": [
             [
              0,
              "#0d0887"
             ],
             [
              0.1111111111111111,
              "#46039f"
             ],
             [
              0.2222222222222222,
              "#7201a8"
             ],
             [
              0.3333333333333333,
              "#9c179e"
             ],
             [
              0.4444444444444444,
              "#bd3786"
             ],
             [
              0.5555555555555556,
              "#d8576b"
             ],
             [
              0.6666666666666666,
              "#ed7953"
             ],
             [
              0.7777777777777778,
              "#fb9f3a"
             ],
             [
              0.8888888888888888,
              "#fdca26"
             ],
             [
              1,
              "#f0f921"
             ]
            ],
            "type": "histogram2dcontour"
           }
          ],
          "mesh3d": [
           {
            "colorbar": {
             "outlinewidth": 0,
             "ticks": ""
            },
            "type": "mesh3d"
           }
          ],
          "parcoords": [
           {
            "line": {
             "colorbar": {
              "outlinewidth": 0,
              "ticks": ""
             }
            },
            "type": "parcoords"
           }
          ],
          "pie": [
           {
            "automargin": true,
            "type": "pie"
           }
          ],
          "scatter": [
           {
            "fillpattern": {
             "fillmode": "overlay",
             "size": 10,
             "solidity": 0.2
            },
            "type": "scatter"
           }
          ],
          "scatter3d": [
           {
            "line": {
             "colorbar": {
              "outlinewidth": 0,
              "ticks": ""
             }
            },
            "marker": {
             "colorbar": {
              "outlinewidth": 0,
              "ticks": ""
             }
            },
            "type": "scatter3d"
           }
          ],
          "scattercarpet": [
           {
            "marker": {
             "colorbar": {
              "outlinewidth": 0,
              "ticks": ""
             }
            },
            "type": "scattercarpet"
           }
          ],
          "scattergeo": [
           {
            "marker": {
             "colorbar": {
              "outlinewidth": 0,
              "ticks": ""
             }
            },
            "type": "scattergeo"
           }
          ],
          "scattergl": [
           {
            "marker": {
             "colorbar": {
              "outlinewidth": 0,
              "ticks": ""
             }
            },
            "type": "scattergl"
           }
          ],
          "scattermap": [
           {
            "marker": {
             "colorbar": {
              "outlinewidth": 0,
              "ticks": ""
             }
            },
            "type": "scattermap"
           }
          ],
          "scattermapbox": [
           {
            "marker": {
             "colorbar": {
              "outlinewidth": 0,
              "ticks": ""
             }
            },
            "type": "scattermapbox"
           }
          ],
          "scatterpolar": [
           {
            "marker": {
             "colorbar": {
              "outlinewidth": 0,
              "ticks": ""
             }
            },
            "type": "scatterpolar"
           }
          ],
          "scatterpolargl": [
           {
            "marker": {
             "colorbar": {
              "outlinewidth": 0,
              "ticks": ""
             }
            },
            "type": "scatterpolargl"
           }
          ],
          "scatterternary": [
           {
            "marker": {
             "colorbar": {
              "outlinewidth": 0,
              "ticks": ""
             }
            },
            "type": "scatterternary"
           }
          ],
          "surface": [
           {
            "colorbar": {
             "outlinewidth": 0,
             "ticks": ""
            },
            "colorscale": [
             [
              0,
              "#0d0887"
             ],
             [
              0.1111111111111111,
              "#46039f"
             ],
             [
              0.2222222222222222,
              "#7201a8"
             ],
             [
              0.3333333333333333,
              "#9c179e"
             ],
             [
              0.4444444444444444,
              "#bd3786"
             ],
             [
              0.5555555555555556,
              "#d8576b"
             ],
             [
              0.6666666666666666,
              "#ed7953"
             ],
             [
              0.7777777777777778,
              "#fb9f3a"
             ],
             [
              0.8888888888888888,
              "#fdca26"
             ],
             [
              1,
              "#f0f921"
             ]
            ],
            "type": "surface"
           }
          ],
          "table": [
           {
            "cells": {
             "fill": {
              "color": "#EBF0F8"
             },
             "line": {
              "color": "white"
             }
            },
            "header": {
             "fill": {
              "color": "#C8D4E3"
             },
             "line": {
              "color": "white"
             }
            },
            "type": "table"
           }
          ]
         },
         "layout": {
          "annotationdefaults": {
           "arrowcolor": "#2a3f5f",
           "arrowhead": 0,
           "arrowwidth": 1
          },
          "autotypenumbers": "strict",
          "coloraxis": {
           "colorbar": {
            "outlinewidth": 0,
            "ticks": ""
           }
          },
          "colorscale": {
           "diverging": [
            [
             0,
             "#8e0152"
            ],
            [
             0.1,
             "#c51b7d"
            ],
            [
             0.2,
             "#de77ae"
            ],
            [
             0.3,
             "#f1b6da"
            ],
            [
             0.4,
             "#fde0ef"
            ],
            [
             0.5,
             "#f7f7f7"
            ],
            [
             0.6,
             "#e6f5d0"
            ],
            [
             0.7,
             "#b8e186"
            ],
            [
             0.8,
             "#7fbc41"
            ],
            [
             0.9,
             "#4d9221"
            ],
            [
             1,
             "#276419"
            ]
           ],
           "sequential": [
            [
             0,
             "#0d0887"
            ],
            [
             0.1111111111111111,
             "#46039f"
            ],
            [
             0.2222222222222222,
             "#7201a8"
            ],
            [
             0.3333333333333333,
             "#9c179e"
            ],
            [
             0.4444444444444444,
             "#bd3786"
            ],
            [
             0.5555555555555556,
             "#d8576b"
            ],
            [
             0.6666666666666666,
             "#ed7953"
            ],
            [
             0.7777777777777778,
             "#fb9f3a"
            ],
            [
             0.8888888888888888,
             "#fdca26"
            ],
            [
             1,
             "#f0f921"
            ]
           ],
           "sequentialminus": [
            [
             0,
             "#0d0887"
            ],
            [
             0.1111111111111111,
             "#46039f"
            ],
            [
             0.2222222222222222,
             "#7201a8"
            ],
            [
             0.3333333333333333,
             "#9c179e"
            ],
            [
             0.4444444444444444,
             "#bd3786"
            ],
            [
             0.5555555555555556,
             "#d8576b"
            ],
            [
             0.6666666666666666,
             "#ed7953"
            ],
            [
             0.7777777777777778,
             "#fb9f3a"
            ],
            [
             0.8888888888888888,
             "#fdca26"
            ],
            [
             1,
             "#f0f921"
            ]
           ]
          },
          "colorway": [
           "#636efa",
           "#EF553B",
           "#00cc96",
           "#ab63fa",
           "#FFA15A",
           "#19d3f3",
           "#FF6692",
           "#B6E880",
           "#FF97FF",
           "#FECB52"
          ],
          "font": {
           "color": "#2a3f5f"
          },
          "geo": {
           "bgcolor": "white",
           "lakecolor": "white",
           "landcolor": "#E5ECF6",
           "showlakes": true,
           "showland": true,
           "subunitcolor": "white"
          },
          "hoverlabel": {
           "align": "left"
          },
          "hovermode": "closest",
          "mapbox": {
           "style": "light"
          },
          "paper_bgcolor": "white",
          "plot_bgcolor": "#E5ECF6",
          "polar": {
           "angularaxis": {
            "gridcolor": "white",
            "linecolor": "white",
            "ticks": ""
           },
           "bgcolor": "#E5ECF6",
           "radialaxis": {
            "gridcolor": "white",
            "linecolor": "white",
            "ticks": ""
           }
          },
          "scene": {
           "xaxis": {
            "backgroundcolor": "#E5ECF6",
            "gridcolor": "white",
            "gridwidth": 2,
            "linecolor": "white",
            "showbackground": true,
            "ticks": "",
            "zerolinecolor": "white"
           },
           "yaxis": {
            "backgroundcolor": "#E5ECF6",
            "gridcolor": "white",
            "gridwidth": 2,
            "linecolor": "white",
            "showbackground": true,
            "ticks": "",
            "zerolinecolor": "white"
           },
           "zaxis": {
            "backgroundcolor": "#E5ECF6",
            "gridcolor": "white",
            "gridwidth": 2,
            "linecolor": "white",
            "showbackground": true,
            "ticks": "",
            "zerolinecolor": "white"
           }
          },
          "shapedefaults": {
           "line": {
            "color": "#2a3f5f"
           }
          },
          "ternary": {
           "aaxis": {
            "gridcolor": "white",
            "linecolor": "white",
            "ticks": ""
           },
           "baxis": {
            "gridcolor": "white",
            "linecolor": "white",
            "ticks": ""
           },
           "bgcolor": "#E5ECF6",
           "caxis": {
            "gridcolor": "white",
            "linecolor": "white",
            "ticks": ""
           }
          },
          "title": {
           "x": 0.05
          },
          "xaxis": {
           "automargin": true,
           "gridcolor": "white",
           "linecolor": "white",
           "ticks": "",
           "title": {
            "standoff": 15
           },
           "zerolinecolor": "white",
           "zerolinewidth": 2
          },
          "yaxis": {
           "automargin": true,
           "gridcolor": "white",
           "linecolor": "white",
           "ticks": "",
           "title": {
            "standoff": 15
           },
           "zerolinecolor": "white",
           "zerolinewidth": 2
          }
         }
        }
       }
      }
     },
     "metadata": {},
     "output_type": "display_data"
    }
   ],
   "source": [
    "fig = px.line_polar(\n",
    "    r=list(ka_count[\"count\"]),\n",
    "    theta=list(ka_count[\"ka\"]),\n",
    "    line_close=True,\n",
    ")\n",
    "fig.show()"
   ]
  },
  {
   "cell_type": "code",
   "execution_count": null,
   "metadata": {},
   "outputs": [],
   "source": []
  },
  {
   "cell_type": "code",
   "execution_count": 86,
   "metadata": {},
   "outputs": [
    {
     "data": {
      "application/vnd.plotly.v1+json": {
       "config": {
        "plotlyServerURL": "https://plot.ly"
       },
       "data": [
        {
         "hovertemplate": "r=%{r}<br>theta=%{theta}<extra></extra>",
         "legendgroup": "",
         "line": {
          "color": "#636efa",
          "dash": "solid",
          "shape": "spline"
         },
         "marker": {
          "symbol": "circle"
         },
         "mode": "lines",
         "name": "",
         "r": {
          "bdata": "AQQBAgIB",
          "dtype": "i1"
         },
         "showlegend": false,
         "subplot": "polar",
         "theta": [
          "Algorithmic_Foundations_AL",
          "Artificial_Intelligence_AI",
          "Foundations_Of_Programming_Languages",
          "Mathematical_and_Statistical_Foundations_MSF",
          "Specialized_Platform_Development_SPD",
          "Algorithmic_Foundations_AL"
         ],
         "type": "scatterpolar"
        }
       ],
       "layout": {
        "legend": {
         "tracegroupgap": 0
        },
        "margin": {
         "t": 60
        },
        "polar": {
         "angularaxis": {
          "direction": "clockwise",
          "rotation": 90
         },
         "domain": {
          "x": [
           0,
           1
          ],
          "y": [
           0,
           1
          ]
         }
        },
        "template": {
         "data": {
          "bar": [
           {
            "error_x": {
             "color": "#2a3f5f"
            },
            "error_y": {
             "color": "#2a3f5f"
            },
            "marker": {
             "line": {
              "color": "#E5ECF6",
              "width": 0.5
             },
             "pattern": {
              "fillmode": "overlay",
              "size": 10,
              "solidity": 0.2
             }
            },
            "type": "bar"
           }
          ],
          "barpolar": [
           {
            "marker": {
             "line": {
              "color": "#E5ECF6",
              "width": 0.5
             },
             "pattern": {
              "fillmode": "overlay",
              "size": 10,
              "solidity": 0.2
             }
            },
            "type": "barpolar"
           }
          ],
          "carpet": [
           {
            "aaxis": {
             "endlinecolor": "#2a3f5f",
             "gridcolor": "white",
             "linecolor": "white",
             "minorgridcolor": "white",
             "startlinecolor": "#2a3f5f"
            },
            "baxis": {
             "endlinecolor": "#2a3f5f",
             "gridcolor": "white",
             "linecolor": "white",
             "minorgridcolor": "white",
             "startlinecolor": "#2a3f5f"
            },
            "type": "carpet"
           }
          ],
          "choropleth": [
           {
            "colorbar": {
             "outlinewidth": 0,
             "ticks": ""
            },
            "type": "choropleth"
           }
          ],
          "contour": [
           {
            "colorbar": {
             "outlinewidth": 0,
             "ticks": ""
            },
            "colorscale": [
             [
              0,
              "#0d0887"
             ],
             [
              0.1111111111111111,
              "#46039f"
             ],
             [
              0.2222222222222222,
              "#7201a8"
             ],
             [
              0.3333333333333333,
              "#9c179e"
             ],
             [
              0.4444444444444444,
              "#bd3786"
             ],
             [
              0.5555555555555556,
              "#d8576b"
             ],
             [
              0.6666666666666666,
              "#ed7953"
             ],
             [
              0.7777777777777778,
              "#fb9f3a"
             ],
             [
              0.8888888888888888,
              "#fdca26"
             ],
             [
              1,
              "#f0f921"
             ]
            ],
            "type": "contour"
           }
          ],
          "contourcarpet": [
           {
            "colorbar": {
             "outlinewidth": 0,
             "ticks": ""
            },
            "type": "contourcarpet"
           }
          ],
          "heatmap": [
           {
            "colorbar": {
             "outlinewidth": 0,
             "ticks": ""
            },
            "colorscale": [
             [
              0,
              "#0d0887"
             ],
             [
              0.1111111111111111,
              "#46039f"
             ],
             [
              0.2222222222222222,
              "#7201a8"
             ],
             [
              0.3333333333333333,
              "#9c179e"
             ],
             [
              0.4444444444444444,
              "#bd3786"
             ],
             [
              0.5555555555555556,
              "#d8576b"
             ],
             [
              0.6666666666666666,
              "#ed7953"
             ],
             [
              0.7777777777777778,
              "#fb9f3a"
             ],
             [
              0.8888888888888888,
              "#fdca26"
             ],
             [
              1,
              "#f0f921"
             ]
            ],
            "type": "heatmap"
           }
          ],
          "histogram": [
           {
            "marker": {
             "pattern": {
              "fillmode": "overlay",
              "size": 10,
              "solidity": 0.2
             }
            },
            "type": "histogram"
           }
          ],
          "histogram2d": [
           {
            "colorbar": {
             "outlinewidth": 0,
             "ticks": ""
            },
            "colorscale": [
             [
              0,
              "#0d0887"
             ],
             [
              0.1111111111111111,
              "#46039f"
             ],
             [
              0.2222222222222222,
              "#7201a8"
             ],
             [
              0.3333333333333333,
              "#9c179e"
             ],
             [
              0.4444444444444444,
              "#bd3786"
             ],
             [
              0.5555555555555556,
              "#d8576b"
             ],
             [
              0.6666666666666666,
              "#ed7953"
             ],
             [
              0.7777777777777778,
              "#fb9f3a"
             ],
             [
              0.8888888888888888,
              "#fdca26"
             ],
             [
              1,
              "#f0f921"
             ]
            ],
            "type": "histogram2d"
           }
          ],
          "histogram2dcontour": [
           {
            "colorbar": {
             "outlinewidth": 0,
             "ticks": ""
            },
            "colorscale": [
             [
              0,
              "#0d0887"
             ],
             [
              0.1111111111111111,
              "#46039f"
             ],
             [
              0.2222222222222222,
              "#7201a8"
             ],
             [
              0.3333333333333333,
              "#9c179e"
             ],
             [
              0.4444444444444444,
              "#bd3786"
             ],
             [
              0.5555555555555556,
              "#d8576b"
             ],
             [
              0.6666666666666666,
              "#ed7953"
             ],
             [
              0.7777777777777778,
              "#fb9f3a"
             ],
             [
              0.8888888888888888,
              "#fdca26"
             ],
             [
              1,
              "#f0f921"
             ]
            ],
            "type": "histogram2dcontour"
           }
          ],
          "mesh3d": [
           {
            "colorbar": {
             "outlinewidth": 0,
             "ticks": ""
            },
            "type": "mesh3d"
           }
          ],
          "parcoords": [
           {
            "line": {
             "colorbar": {
              "outlinewidth": 0,
              "ticks": ""
             }
            },
            "type": "parcoords"
           }
          ],
          "pie": [
           {
            "automargin": true,
            "type": "pie"
           }
          ],
          "scatter": [
           {
            "fillpattern": {
             "fillmode": "overlay",
             "size": 10,
             "solidity": 0.2
            },
            "type": "scatter"
           }
          ],
          "scatter3d": [
           {
            "line": {
             "colorbar": {
              "outlinewidth": 0,
              "ticks": ""
             }
            },
            "marker": {
             "colorbar": {
              "outlinewidth": 0,
              "ticks": ""
             }
            },
            "type": "scatter3d"
           }
          ],
          "scattercarpet": [
           {
            "marker": {
             "colorbar": {
              "outlinewidth": 0,
              "ticks": ""
             }
            },
            "type": "scattercarpet"
           }
          ],
          "scattergeo": [
           {
            "marker": {
             "colorbar": {
              "outlinewidth": 0,
              "ticks": ""
             }
            },
            "type": "scattergeo"
           }
          ],
          "scattergl": [
           {
            "marker": {
             "colorbar": {
              "outlinewidth": 0,
              "ticks": ""
             }
            },
            "type": "scattergl"
           }
          ],
          "scattermap": [
           {
            "marker": {
             "colorbar": {
              "outlinewidth": 0,
              "ticks": ""
             }
            },
            "type": "scattermap"
           }
          ],
          "scattermapbox": [
           {
            "marker": {
             "colorbar": {
              "outlinewidth": 0,
              "ticks": ""
             }
            },
            "type": "scattermapbox"
           }
          ],
          "scatterpolar": [
           {
            "marker": {
             "colorbar": {
              "outlinewidth": 0,
              "ticks": ""
             }
            },
            "type": "scatterpolar"
           }
          ],
          "scatterpolargl": [
           {
            "marker": {
             "colorbar": {
              "outlinewidth": 0,
              "ticks": ""
             }
            },
            "type": "scatterpolargl"
           }
          ],
          "scatterternary": [
           {
            "marker": {
             "colorbar": {
              "outlinewidth": 0,
              "ticks": ""
             }
            },
            "type": "scatterternary"
           }
          ],
          "surface": [
           {
            "colorbar": {
             "outlinewidth": 0,
             "ticks": ""
            },
            "colorscale": [
             [
              0,
              "#0d0887"
             ],
             [
              0.1111111111111111,
              "#46039f"
             ],
             [
              0.2222222222222222,
              "#7201a8"
             ],
             [
              0.3333333333333333,
              "#9c179e"
             ],
             [
              0.4444444444444444,
              "#bd3786"
             ],
             [
              0.5555555555555556,
              "#d8576b"
             ],
             [
              0.6666666666666666,
              "#ed7953"
             ],
             [
              0.7777777777777778,
              "#fb9f3a"
             ],
             [
              0.8888888888888888,
              "#fdca26"
             ],
             [
              1,
              "#f0f921"
             ]
            ],
            "type": "surface"
           }
          ],
          "table": [
           {
            "cells": {
             "fill": {
              "color": "#EBF0F8"
             },
             "line": {
              "color": "white"
             }
            },
            "header": {
             "fill": {
              "color": "#C8D4E3"
             },
             "line": {
              "color": "white"
             }
            },
            "type": "table"
           }
          ]
         },
         "layout": {
          "annotationdefaults": {
           "arrowcolor": "#2a3f5f",
           "arrowhead": 0,
           "arrowwidth": 1
          },
          "autotypenumbers": "strict",
          "coloraxis": {
           "colorbar": {
            "outlinewidth": 0,
            "ticks": ""
           }
          },
          "colorscale": {
           "diverging": [
            [
             0,
             "#8e0152"
            ],
            [
             0.1,
             "#c51b7d"
            ],
            [
             0.2,
             "#de77ae"
            ],
            [
             0.3,
             "#f1b6da"
            ],
            [
             0.4,
             "#fde0ef"
            ],
            [
             0.5,
             "#f7f7f7"
            ],
            [
             0.6,
             "#e6f5d0"
            ],
            [
             0.7,
             "#b8e186"
            ],
            [
             0.8,
             "#7fbc41"
            ],
            [
             0.9,
             "#4d9221"
            ],
            [
             1,
             "#276419"
            ]
           ],
           "sequential": [
            [
             0,
             "#0d0887"
            ],
            [
             0.1111111111111111,
             "#46039f"
            ],
            [
             0.2222222222222222,
             "#7201a8"
            ],
            [
             0.3333333333333333,
             "#9c179e"
            ],
            [
             0.4444444444444444,
             "#bd3786"
            ],
            [
             0.5555555555555556,
             "#d8576b"
            ],
            [
             0.6666666666666666,
             "#ed7953"
            ],
            [
             0.7777777777777778,
             "#fb9f3a"
            ],
            [
             0.8888888888888888,
             "#fdca26"
            ],
            [
             1,
             "#f0f921"
            ]
           ],
           "sequentialminus": [
            [
             0,
             "#0d0887"
            ],
            [
             0.1111111111111111,
             "#46039f"
            ],
            [
             0.2222222222222222,
             "#7201a8"
            ],
            [
             0.3333333333333333,
             "#9c179e"
            ],
            [
             0.4444444444444444,
             "#bd3786"
            ],
            [
             0.5555555555555556,
             "#d8576b"
            ],
            [
             0.6666666666666666,
             "#ed7953"
            ],
            [
             0.7777777777777778,
             "#fb9f3a"
            ],
            [
             0.8888888888888888,
             "#fdca26"
            ],
            [
             1,
             "#f0f921"
            ]
           ]
          },
          "colorway": [
           "#636efa",
           "#EF553B",
           "#00cc96",
           "#ab63fa",
           "#FFA15A",
           "#19d3f3",
           "#FF6692",
           "#B6E880",
           "#FF97FF",
           "#FECB52"
          ],
          "font": {
           "color": "#2a3f5f"
          },
          "geo": {
           "bgcolor": "white",
           "lakecolor": "white",
           "landcolor": "#E5ECF6",
           "showlakes": true,
           "showland": true,
           "subunitcolor": "white"
          },
          "hoverlabel": {
           "align": "left"
          },
          "hovermode": "closest",
          "mapbox": {
           "style": "light"
          },
          "paper_bgcolor": "white",
          "plot_bgcolor": "#E5ECF6",
          "polar": {
           "angularaxis": {
            "gridcolor": "white",
            "linecolor": "white",
            "ticks": ""
           },
           "bgcolor": "#E5ECF6",
           "radialaxis": {
            "gridcolor": "white",
            "linecolor": "white",
            "ticks": ""
           }
          },
          "scene": {
           "xaxis": {
            "backgroundcolor": "#E5ECF6",
            "gridcolor": "white",
            "gridwidth": 2,
            "linecolor": "white",
            "showbackground": true,
            "ticks": "",
            "zerolinecolor": "white"
           },
           "yaxis": {
            "backgroundcolor": "#E5ECF6",
            "gridcolor": "white",
            "gridwidth": 2,
            "linecolor": "white",
            "showbackground": true,
            "ticks": "",
            "zerolinecolor": "white"
           },
           "zaxis": {
            "backgroundcolor": "#E5ECF6",
            "gridcolor": "white",
            "gridwidth": 2,
            "linecolor": "white",
            "showbackground": true,
            "ticks": "",
            "zerolinecolor": "white"
           }
          },
          "shapedefaults": {
           "line": {
            "color": "#2a3f5f"
           }
          },
          "ternary": {
           "aaxis": {
            "gridcolor": "white",
            "linecolor": "white",
            "ticks": ""
           },
           "baxis": {
            "gridcolor": "white",
            "linecolor": "white",
            "ticks": ""
           },
           "bgcolor": "#E5ECF6",
           "caxis": {
            "gridcolor": "white",
            "linecolor": "white",
            "ticks": ""
           }
          },
          "title": {
           "x": 0.05
          },
          "xaxis": {
           "automargin": true,
           "gridcolor": "white",
           "linecolor": "white",
           "ticks": "",
           "title": {
            "standoff": 15
           },
           "zerolinecolor": "white",
           "zerolinewidth": 2
          },
          "yaxis": {
           "automargin": true,
           "gridcolor": "white",
           "linecolor": "white",
           "ticks": "",
           "title": {
            "standoff": 15
           },
           "zerolinecolor": "white",
           "zerolinewidth": 2
          }
         }
        }
       }
      }
     },
     "metadata": {},
     "output_type": "display_data"
    }
   ],
   "source": [
    "# filter matched_courses dataframe with \"ALMA\" in parcours column\n",
    "ATAL_courses = matched_courses[matched_courses[\"parcours\"].str.contains(\"ATAL\")]\n",
    "\n",
    "# distinct count of s for each ka in the matched_courses dataframe\n",
    "ka_count = ATAL_courses.groupby(\"ka\")[\"s\"].nunique()\n",
    "ka_count = ka_count.reset_index()\n",
    "ka_count.columns = [\"ka\", \"count\"]\n",
    "\n",
    "# sort the ka_count dataframe by ka label\n",
    "ka_count = ka_count.sort_values(by=\"ka\")\n",
    "ka_count\n",
    "\n",
    "fig = px.line_polar(\n",
    "    r=list(ka_count[\"count\"]), theta=list(ka_count[\"ka\"]), line_close=True, line_shape=\"spline\"\n",
    ")\n",
    "fig.show()"
   ]
  },
  {
   "cell_type": "code",
   "execution_count": 119,
   "metadata": {},
   "outputs": [
    {
     "data": {
      "application/vnd.plotly.v1+json": {
       "config": {
        "plotlyServerURL": "https://plot.ly"
       },
       "data": [
        {
         "hovertemplate": "<extra></extra>",
         "legendgroup": "",
         "line": {
          "color": "#636efa",
          "dash": "solid"
         },
         "marker": {
          "symbol": "circle"
         },
         "mode": "lines",
         "name": "",
         "showlegend": true,
         "subplot": "polar",
         "type": "scatterpolar"
        },
        {
         "hovertemplate": "r=%{r}<br>theta=%{theta}<extra></extra>",
         "legendgroup": "",
         "line": {
          "color": "rgb(228,26,28)",
          "dash": "solid"
         },
         "marker": {
          "symbol": "circle"
         },
         "mode": "lines",
         "name": "ALMA",
         "r": {
          "bdata": "AwEBAQEDAgIEAw==",
          "dtype": "i1"
         },
         "showlegend": true,
         "subplot": "polar",
         "theta": [
          "Algorithmic_Foundations_AL",
          "Architecture_and_Organization_AR",
          "Artificial_Intelligence_AI",
          "Foundations_Of_Programming_Languages",
          "Mathematical_and_Statistical_Foundations_MSF",
          "Networking_and_Communication_NC",
          "Software_Development_Fundamentals_SDF",
          "Software_Engineering_SE",
          "Specialized_Platform_Development_SPD",
          "Algorithmic_Foundations_AL"
         ],
         "type": "scatterpolar"
        },
        {
         "hovertemplate": "r=%{r}<br>theta=%{theta}<extra></extra>",
         "legendgroup": "",
         "line": {
          "color": "rgb(55,126,184)",
          "dash": "solid"
         },
         "marker": {
          "symbol": "circle"
         },
         "mode": "lines",
         "name": "DS",
         "r": {
          "bdata": "AQcCAQECAQIB",
          "dtype": "i1"
         },
         "showlegend": true,
         "subplot": "polar",
         "theta": [
          "Algorithmic_Foundations_AL",
          "Artificial_Intelligence_AI",
          "Data_Management",
          "Foundations_Of_Programming_Languages",
          "Human_Computer_Interaction_HCI",
          "Mathematical_and_Statistical_Foundations_MSF",
          "Society_Ethics_and_the_Profession_SEP",
          "Specialized_Platform_Development_SPD",
          "Algorithmic_Foundations_AL"
         ],
         "type": "scatterpolar"
        },
        {
         "hovertemplate": "r=%{r}<br>theta=%{theta}<extra></extra>",
         "legendgroup": "",
         "line": {
          "color": "rgb(77,175,74)",
          "dash": "solid"
         },
         "marker": {
          "symbol": "circle"
         },
         "mode": "lines",
         "name": "ATAL",
         "r": {
          "bdata": "AQQBAgIB",
          "dtype": "i1"
         },
         "showlegend": true,
         "subplot": "polar",
         "theta": [
          "Algorithmic_Foundations_AL",
          "Artificial_Intelligence_AI",
          "Foundations_Of_Programming_Languages",
          "Mathematical_and_Statistical_Foundations_MSF",
          "Specialized_Platform_Development_SPD",
          "Algorithmic_Foundations_AL"
         ],
         "type": "scatterpolar"
        },
        {
         "hovertemplate": "r=%{r}<br>theta=%{theta}<extra></extra>",
         "legendgroup": "",
         "line": {
          "color": "rgb(152,78,163)",
          "dash": "solid"
         },
         "marker": {
          "symbol": "circle"
         },
         "mode": "lines",
         "name": "RO",
         "r": {
          "bdata": "BAQBBgEBBA==",
          "dtype": "i1"
         },
         "showlegend": true,
         "subplot": "polar",
         "theta": [
          "Algorithmic_Foundations_AL",
          "Artificial_Intelligence_AI",
          "Foundations_Of_Programming_Languages",
          "Mathematical_and_Statistical_Foundations_MSF",
          "Networking_and_Communication_NC",
          "Specialized_Platform_Development_SPD",
          "Algorithmic_Foundations_AL"
         ],
         "type": "scatterpolar"
        }
       ],
       "layout": {
        "legend": {
         "tracegroupgap": 0
        },
        "margin": {
         "t": 60
        },
        "polar": {
         "angularaxis": {
          "direction": "clockwise",
          "rotation": 90
         },
         "domain": {
          "x": [
           0,
           1
          ],
          "y": [
           0,
           1
          ]
         }
        },
        "template": {
         "data": {
          "bar": [
           {
            "error_x": {
             "color": "#2a3f5f"
            },
            "error_y": {
             "color": "#2a3f5f"
            },
            "marker": {
             "line": {
              "color": "#E5ECF6",
              "width": 0.5
             },
             "pattern": {
              "fillmode": "overlay",
              "size": 10,
              "solidity": 0.2
             }
            },
            "type": "bar"
           }
          ],
          "barpolar": [
           {
            "marker": {
             "line": {
              "color": "#E5ECF6",
              "width": 0.5
             },
             "pattern": {
              "fillmode": "overlay",
              "size": 10,
              "solidity": 0.2
             }
            },
            "type": "barpolar"
           }
          ],
          "carpet": [
           {
            "aaxis": {
             "endlinecolor": "#2a3f5f",
             "gridcolor": "white",
             "linecolor": "white",
             "minorgridcolor": "white",
             "startlinecolor": "#2a3f5f"
            },
            "baxis": {
             "endlinecolor": "#2a3f5f",
             "gridcolor": "white",
             "linecolor": "white",
             "minorgridcolor": "white",
             "startlinecolor": "#2a3f5f"
            },
            "type": "carpet"
           }
          ],
          "choropleth": [
           {
            "colorbar": {
             "outlinewidth": 0,
             "ticks": ""
            },
            "type": "choropleth"
           }
          ],
          "contour": [
           {
            "colorbar": {
             "outlinewidth": 0,
             "ticks": ""
            },
            "colorscale": [
             [
              0,
              "#0d0887"
             ],
             [
              0.1111111111111111,
              "#46039f"
             ],
             [
              0.2222222222222222,
              "#7201a8"
             ],
             [
              0.3333333333333333,
              "#9c179e"
             ],
             [
              0.4444444444444444,
              "#bd3786"
             ],
             [
              0.5555555555555556,
              "#d8576b"
             ],
             [
              0.6666666666666666,
              "#ed7953"
             ],
             [
              0.7777777777777778,
              "#fb9f3a"
             ],
             [
              0.8888888888888888,
              "#fdca26"
             ],
             [
              1,
              "#f0f921"
             ]
            ],
            "type": "contour"
           }
          ],
          "contourcarpet": [
           {
            "colorbar": {
             "outlinewidth": 0,
             "ticks": ""
            },
            "type": "contourcarpet"
           }
          ],
          "heatmap": [
           {
            "colorbar": {
             "outlinewidth": 0,
             "ticks": ""
            },
            "colorscale": [
             [
              0,
              "#0d0887"
             ],
             [
              0.1111111111111111,
              "#46039f"
             ],
             [
              0.2222222222222222,
              "#7201a8"
             ],
             [
              0.3333333333333333,
              "#9c179e"
             ],
             [
              0.4444444444444444,
              "#bd3786"
             ],
             [
              0.5555555555555556,
              "#d8576b"
             ],
             [
              0.6666666666666666,
              "#ed7953"
             ],
             [
              0.7777777777777778,
              "#fb9f3a"
             ],
             [
              0.8888888888888888,
              "#fdca26"
             ],
             [
              1,
              "#f0f921"
             ]
            ],
            "type": "heatmap"
           }
          ],
          "histogram": [
           {
            "marker": {
             "pattern": {
              "fillmode": "overlay",
              "size": 10,
              "solidity": 0.2
             }
            },
            "type": "histogram"
           }
          ],
          "histogram2d": [
           {
            "colorbar": {
             "outlinewidth": 0,
             "ticks": ""
            },
            "colorscale": [
             [
              0,
              "#0d0887"
             ],
             [
              0.1111111111111111,
              "#46039f"
             ],
             [
              0.2222222222222222,
              "#7201a8"
             ],
             [
              0.3333333333333333,
              "#9c179e"
             ],
             [
              0.4444444444444444,
              "#bd3786"
             ],
             [
              0.5555555555555556,
              "#d8576b"
             ],
             [
              0.6666666666666666,
              "#ed7953"
             ],
             [
              0.7777777777777778,
              "#fb9f3a"
             ],
             [
              0.8888888888888888,
              "#fdca26"
             ],
             [
              1,
              "#f0f921"
             ]
            ],
            "type": "histogram2d"
           }
          ],
          "histogram2dcontour": [
           {
            "colorbar": {
             "outlinewidth": 0,
             "ticks": ""
            },
            "colorscale": [
             [
              0,
              "#0d0887"
             ],
             [
              0.1111111111111111,
              "#46039f"
             ],
             [
              0.2222222222222222,
              "#7201a8"
             ],
             [
              0.3333333333333333,
              "#9c179e"
             ],
             [
              0.4444444444444444,
              "#bd3786"
             ],
             [
              0.5555555555555556,
              "#d8576b"
             ],
             [
              0.6666666666666666,
              "#ed7953"
             ],
             [
              0.7777777777777778,
              "#fb9f3a"
             ],
             [
              0.8888888888888888,
              "#fdca26"
             ],
             [
              1,
              "#f0f921"
             ]
            ],
            "type": "histogram2dcontour"
           }
          ],
          "mesh3d": [
           {
            "colorbar": {
             "outlinewidth": 0,
             "ticks": ""
            },
            "type": "mesh3d"
           }
          ],
          "parcoords": [
           {
            "line": {
             "colorbar": {
              "outlinewidth": 0,
              "ticks": ""
             }
            },
            "type": "parcoords"
           }
          ],
          "pie": [
           {
            "automargin": true,
            "type": "pie"
           }
          ],
          "scatter": [
           {
            "fillpattern": {
             "fillmode": "overlay",
             "size": 10,
             "solidity": 0.2
            },
            "type": "scatter"
           }
          ],
          "scatter3d": [
           {
            "line": {
             "colorbar": {
              "outlinewidth": 0,
              "ticks": ""
             }
            },
            "marker": {
             "colorbar": {
              "outlinewidth": 0,
              "ticks": ""
             }
            },
            "type": "scatter3d"
           }
          ],
          "scattercarpet": [
           {
            "marker": {
             "colorbar": {
              "outlinewidth": 0,
              "ticks": ""
             }
            },
            "type": "scattercarpet"
           }
          ],
          "scattergeo": [
           {
            "marker": {
             "colorbar": {
              "outlinewidth": 0,
              "ticks": ""
             }
            },
            "type": "scattergeo"
           }
          ],
          "scattergl": [
           {
            "marker": {
             "colorbar": {
              "outlinewidth": 0,
              "ticks": ""
             }
            },
            "type": "scattergl"
           }
          ],
          "scattermap": [
           {
            "marker": {
             "colorbar": {
              "outlinewidth": 0,
              "ticks": ""
             }
            },
            "type": "scattermap"
           }
          ],
          "scattermapbox": [
           {
            "marker": {
             "colorbar": {
              "outlinewidth": 0,
              "ticks": ""
             }
            },
            "type": "scattermapbox"
           }
          ],
          "scatterpolar": [
           {
            "marker": {
             "colorbar": {
              "outlinewidth": 0,
              "ticks": ""
             }
            },
            "type": "scatterpolar"
           }
          ],
          "scatterpolargl": [
           {
            "marker": {
             "colorbar": {
              "outlinewidth": 0,
              "ticks": ""
             }
            },
            "type": "scatterpolargl"
           }
          ],
          "scatterternary": [
           {
            "marker": {
             "colorbar": {
              "outlinewidth": 0,
              "ticks": ""
             }
            },
            "type": "scatterternary"
           }
          ],
          "surface": [
           {
            "colorbar": {
             "outlinewidth": 0,
             "ticks": ""
            },
            "colorscale": [
             [
              0,
              "#0d0887"
             ],
             [
              0.1111111111111111,
              "#46039f"
             ],
             [
              0.2222222222222222,
              "#7201a8"
             ],
             [
              0.3333333333333333,
              "#9c179e"
             ],
             [
              0.4444444444444444,
              "#bd3786"
             ],
             [
              0.5555555555555556,
              "#d8576b"
             ],
             [
              0.6666666666666666,
              "#ed7953"
             ],
             [
              0.7777777777777778,
              "#fb9f3a"
             ],
             [
              0.8888888888888888,
              "#fdca26"
             ],
             [
              1,
              "#f0f921"
             ]
            ],
            "type": "surface"
           }
          ],
          "table": [
           {
            "cells": {
             "fill": {
              "color": "#EBF0F8"
             },
             "line": {
              "color": "white"
             }
            },
            "header": {
             "fill": {
              "color": "#C8D4E3"
             },
             "line": {
              "color": "white"
             }
            },
            "type": "table"
           }
          ]
         },
         "layout": {
          "annotationdefaults": {
           "arrowcolor": "#2a3f5f",
           "arrowhead": 0,
           "arrowwidth": 1
          },
          "autotypenumbers": "strict",
          "coloraxis": {
           "colorbar": {
            "outlinewidth": 0,
            "ticks": ""
           }
          },
          "colorscale": {
           "diverging": [
            [
             0,
             "#8e0152"
            ],
            [
             0.1,
             "#c51b7d"
            ],
            [
             0.2,
             "#de77ae"
            ],
            [
             0.3,
             "#f1b6da"
            ],
            [
             0.4,
             "#fde0ef"
            ],
            [
             0.5,
             "#f7f7f7"
            ],
            [
             0.6,
             "#e6f5d0"
            ],
            [
             0.7,
             "#b8e186"
            ],
            [
             0.8,
             "#7fbc41"
            ],
            [
             0.9,
             "#4d9221"
            ],
            [
             1,
             "#276419"
            ]
           ],
           "sequential": [
            [
             0,
             "#0d0887"
            ],
            [
             0.1111111111111111,
             "#46039f"
            ],
            [
             0.2222222222222222,
             "#7201a8"
            ],
            [
             0.3333333333333333,
             "#9c179e"
            ],
            [
             0.4444444444444444,
             "#bd3786"
            ],
            [
             0.5555555555555556,
             "#d8576b"
            ],
            [
             0.6666666666666666,
             "#ed7953"
            ],
            [
             0.7777777777777778,
             "#fb9f3a"
            ],
            [
             0.8888888888888888,
             "#fdca26"
            ],
            [
             1,
             "#f0f921"
            ]
           ],
           "sequentialminus": [
            [
             0,
             "#0d0887"
            ],
            [
             0.1111111111111111,
             "#46039f"
            ],
            [
             0.2222222222222222,
             "#7201a8"
            ],
            [
             0.3333333333333333,
             "#9c179e"
            ],
            [
             0.4444444444444444,
             "#bd3786"
            ],
            [
             0.5555555555555556,
             "#d8576b"
            ],
            [
             0.6666666666666666,
             "#ed7953"
            ],
            [
             0.7777777777777778,
             "#fb9f3a"
            ],
            [
             0.8888888888888888,
             "#fdca26"
            ],
            [
             1,
             "#f0f921"
            ]
           ]
          },
          "colorway": [
           "#636efa",
           "#EF553B",
           "#00cc96",
           "#ab63fa",
           "#FFA15A",
           "#19d3f3",
           "#FF6692",
           "#B6E880",
           "#FF97FF",
           "#FECB52"
          ],
          "font": {
           "color": "#2a3f5f"
          },
          "geo": {
           "bgcolor": "white",
           "lakecolor": "white",
           "landcolor": "#E5ECF6",
           "showlakes": true,
           "showland": true,
           "subunitcolor": "white"
          },
          "hoverlabel": {
           "align": "left"
          },
          "hovermode": "closest",
          "mapbox": {
           "style": "light"
          },
          "paper_bgcolor": "white",
          "plot_bgcolor": "#E5ECF6",
          "polar": {
           "angularaxis": {
            "gridcolor": "white",
            "linecolor": "white",
            "ticks": ""
           },
           "bgcolor": "#E5ECF6",
           "radialaxis": {
            "gridcolor": "white",
            "linecolor": "white",
            "ticks": ""
           }
          },
          "scene": {
           "xaxis": {
            "backgroundcolor": "#E5ECF6",
            "gridcolor": "white",
            "gridwidth": 2,
            "linecolor": "white",
            "showbackground": true,
            "ticks": "",
            "zerolinecolor": "white"
           },
           "yaxis": {
            "backgroundcolor": "#E5ECF6",
            "gridcolor": "white",
            "gridwidth": 2,
            "linecolor": "white",
            "showbackground": true,
            "ticks": "",
            "zerolinecolor": "white"
           },
           "zaxis": {
            "backgroundcolor": "#E5ECF6",
            "gridcolor": "white",
            "gridwidth": 2,
            "linecolor": "white",
            "showbackground": true,
            "ticks": "",
            "zerolinecolor": "white"
           }
          },
          "shapedefaults": {
           "line": {
            "color": "#2a3f5f"
           }
          },
          "ternary": {
           "aaxis": {
            "gridcolor": "white",
            "linecolor": "white",
            "ticks": ""
           },
           "baxis": {
            "gridcolor": "white",
            "linecolor": "white",
            "ticks": ""
           },
           "bgcolor": "#E5ECF6",
           "caxis": {
            "gridcolor": "white",
            "linecolor": "white",
            "ticks": ""
           }
          },
          "title": {
           "x": 0.05
          },
          "xaxis": {
           "automargin": true,
           "gridcolor": "white",
           "linecolor": "white",
           "ticks": "",
           "title": {
            "standoff": 15
           },
           "zerolinecolor": "white",
           "zerolinewidth": 2
          },
          "yaxis": {
           "automargin": true,
           "gridcolor": "white",
           "linecolor": "white",
           "ticks": "",
           "title": {
            "standoff": 15
           },
           "zerolinecolor": "white",
           "zerolinewidth": 2
          }
         }
        }
       }
      }
     },
     "metadata": {},
     "output_type": "display_data"
    }
   ],
   "source": [
    "fig = px.line_polar()\n",
    "learning_path = [\"ALMA\", \"DS\", \"ATAL\", \"RO\"]\n",
    "colors = px.colors.qualitative.Set1\n",
    "\n",
    "for path in learning_path:\n",
    "    courses = matched_courses[matched_courses[\"parcours\"].str.contains(path)]\n",
    "    ka_count = courses.groupby(\"ka\")[\"s\"].nunique()\n",
    "    ka_count = ka_count.reset_index()\n",
    "    ka_count.columns = [\"ka\", \"count\"]\n",
    "    ka_count = ka_count.sort_values(by=\"ka\")\n",
    "\n",
    "    c = learning_path.index(path)\n",
    "    css_color = colors[c]\n",
    "\n",
    "    trace = px.line_polar(\n",
    "        r=list(ka_count[\"count\"]),\n",
    "        theta=list(ka_count[\"ka\"]),\n",
    "        line_close=True,\n",
    "        #line_shape=\"spline\",\n",
    "    ).data[0]\n",
    "    trace.line.color = css_color\n",
    "    trace.name = path\n",
    "    fig.add_trace(trace)\n",
    "\n",
    "\n",
    "fig.update_traces(showlegend=True)\n",
    "\n",
    "fig.show()"
   ]
  },
  {
   "cell_type": "code",
   "execution_count": null,
   "metadata": {},
   "outputs": [],
   "source": []
  },
  {
   "cell_type": "code",
   "execution_count": null,
   "metadata": {},
   "outputs": [],
   "source": []
  }
 ],
 "metadata": {
  "kernelspec": {
   "display_name": "sharefair",
   "language": "python",
   "name": "python3"
  },
  "language_info": {
   "codemirror_mode": {
    "name": "ipython",
    "version": 3
   },
   "file_extension": ".py",
   "mimetype": "text/x-python",
   "name": "python",
   "nbconvert_exporter": "python",
   "pygments_lexer": "ipython3",
   "version": "3.12.9"
  }
 },
 "nbformat": 4,
 "nbformat_minor": 2
}
